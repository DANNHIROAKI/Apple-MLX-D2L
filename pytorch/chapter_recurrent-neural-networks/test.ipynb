{
 "cells": [
  {
   "cell_type": "markdown",
   "id": "52df7352",
   "metadata": {
    "origin_pos": 0
   },
   "source": [
    "# 循环神经网络的从零开始实现\n",
    ":label:`sec_rnn_scratch`\n",
    "\n",
    "本节将根据 :numref:`sec_rnn`中的描述，\n",
    "从头开始基于循环神经网络实现字符级语言模型。\n",
    "这样的模型将在H.G.Wells的时光机器数据集上训练。\n",
    "和前面 :numref:`sec_language_model`中介绍过的一样，\n",
    "我们先读取数据集。\n"
   ]
  },
  {
   "cell_type": "code",
   "execution_count": 1,
   "id": "dafdcbcb",
   "metadata": {
    "execution": {
     "iopub.execute_input": "2023-08-18T07:18:01.555032Z",
     "iopub.status.busy": "2023-08-18T07:18:01.554199Z",
     "iopub.status.idle": "2023-08-18T07:18:04.803287Z",
     "shell.execute_reply": "2023-08-18T07:18:04.802073Z"
    },
    "origin_pos": 2,
    "tab": [
     "pytorch"
    ]
   },
   "outputs": [],
   "source": [
    "# %matplotlib inline\n",
    "# import math\n",
    "# import torch\n",
    "# from torch import nn\n",
    "# from torch.nn import functional as F\n",
    "# from d2l import torch as d2l\n",
    "\n",
    "\n",
    "%%tab mlx\n",
    "%matplotlib inline\n",
    "import math\n",
    "import mlx\n",
    "import mlx.core as mx\n",
    "import mlx.nn as nn\n",
    "from d2l import mlx as d2l\n",
    "\n"
   ]
  }
 ],
 "metadata": {
  "kernelspec": {
   "display_name": "d2l_dhy",
   "language": "python",
   "name": "python3"
  },
  "language_info": {
   "codemirror_mode": {
    "name": "ipython",
    "version": 3
   },
   "file_extension": ".py",
   "mimetype": "text/x-python",
   "name": "python",
   "nbconvert_exporter": "python",
   "pygments_lexer": "ipython3",
   "version": "3.10.14"
  },
  "required_libs": []
 },
 "nbformat": 4,
 "nbformat_minor": 5
}
