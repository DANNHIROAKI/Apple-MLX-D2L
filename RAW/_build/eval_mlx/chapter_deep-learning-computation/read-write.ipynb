{
 "cells": [
  {
   "cell_type": "markdown",
   "id": "8f88fc6a",
   "metadata": {
    "origin_pos": 0
   },
   "source": [
    "# 读写文件\n",
    "\n",
    "到目前为止，我们讨论了如何处理数据，\n",
    "以及如何构建、训练和测试深度学习模型。\n",
    "然而，有时我们希望保存训练的模型，\n",
    "以备将来在各种环境中使用（比如在部署中进行预测）。\n",
    "此外，当运行一个耗时较长的训练过程时，\n",
    "最佳的做法是定期保存中间结果，\n",
    "以确保在服务器电源被不小心断掉时，我们不会损失几天的计算结果。\n",
    "因此，现在是时候学习如何加载和存储权重向量和整个模型了。\n",
    "\n",
    "## (**加载和保存张量**)\n",
    "\n",
    "对于单个张量，我们可以直接调用`load`和`save`函数分别读写它们。\n",
    "这两个函数都要求我们提供一个名称，`save`要求将要保存的变量作为输入。\n"
   ]
  },
  {
   "cell_type": "code",
   "execution_count": 1,
   "id": "09a8e255",
   "metadata": {
    "execution": {
     "iopub.execute_input": "2024-07-24T07:42:59.979609Z",
     "iopub.status.busy": "2024-07-24T07:42:59.979140Z",
     "iopub.status.idle": "2024-07-24T07:43:00.093687Z",
     "shell.execute_reply": "2024-07-24T07:43:00.093399Z"
    },
    "origin_pos": 5,
    "tab": [
     "mlx"
    ]
   },
   "outputs": [],
   "source": [
    "import mlx.core as mx\n",
    "import mlx.nn as nn\n",
    "from mlx.utils import tree_flatten\n",
    "\n",
    "x = mx.arange(4)\n",
    "mx.save('x-file', x)"
   ]
  },
  {
   "cell_type": "markdown",
   "id": "e279bdb3",
   "metadata": {
    "origin_pos": 6
   },
   "source": [
    "我们现在可以将存储在文件中的数据读回内存。\n"
   ]
  },
  {
   "cell_type": "code",
   "execution_count": 2,
   "id": "79b0a0aa",
   "metadata": {
    "execution": {
     "iopub.execute_input": "2024-07-24T07:43:00.095416Z",
     "iopub.status.busy": "2024-07-24T07:43:00.095294Z",
     "iopub.status.idle": "2024-07-24T07:43:00.098405Z",
     "shell.execute_reply": "2024-07-24T07:43:00.098176Z"
    },
    "origin_pos": 11,
    "tab": [
     "mlx"
    ]
   },
   "outputs": [
    {
     "data": {
      "text/plain": [
       "array([0, 1, 2, 3], dtype=int32)"
      ]
     },
     "execution_count": 2,
     "metadata": {},
     "output_type": "execute_result"
    }
   ],
   "source": [
    "x2 = mx.load('x-file.npy')\n",
    "x2"
   ]
  },
  {
   "cell_type": "markdown",
   "id": "7b4fbd00",
   "metadata": {
    "origin_pos": 12
   },
   "source": [
    "我们可以[**存储一个张量列表，然后把它们读回内存。**]\n"
   ]
  },
  {
   "cell_type": "code",
   "execution_count": 3,
   "id": "29754988",
   "metadata": {
    "execution": {
     "iopub.execute_input": "2024-07-24T07:43:00.115485Z",
     "iopub.status.busy": "2024-07-24T07:43:00.115340Z",
     "iopub.status.idle": "2024-07-24T07:43:00.145215Z",
     "shell.execute_reply": "2024-07-24T07:43:00.144958Z"
    },
    "origin_pos": 17,
    "tab": [
     "mlx"
    ]
   },
   "outputs": [
    {
     "data": {
      "text/plain": [
       "(array([0, 1, 2, 3], dtype=float32), array([0, 0, 0, 0], dtype=float32))"
      ]
     },
     "execution_count": 3,
     "metadata": {},
     "output_type": "execute_result"
    }
   ],
   "source": [
    "y = mx.zeros(4)\n",
    "mx.save('x-files', mx.array((x, y)))\n",
    "x2, y2 = mx.load('x-files.npy')\n",
    "(x2, y2)"
   ]
  },
  {
   "cell_type": "markdown",
   "id": "b19def40",
   "metadata": {
    "origin_pos": 18
   },
   "source": [
    "我们甚至可以(**写入或读取从字符串映射到张量的字典**)。\n",
    "当我们要读取或写入模型中的所有权重时，这很方便。\n"
   ]
  },
  {
   "cell_type": "code",
   "execution_count": 4,
   "id": "52185454",
   "metadata": {
    "execution": {
     "iopub.execute_input": "2024-07-24T07:43:00.146774Z",
     "iopub.status.busy": "2024-07-24T07:43:00.146666Z",
     "iopub.status.idle": "2024-07-24T07:43:00.151361Z",
     "shell.execute_reply": "2024-07-24T07:43:00.151142Z"
    },
    "origin_pos": 23,
    "tab": [
     "mlx"
    ]
   },
   "outputs": [
    {
     "data": {
      "text/plain": [
       "{'x': array([0, 1, 2, 3], dtype=int32),\n",
       " 'y': array([0, 0, 0, 0], dtype=float32)}"
      ]
     },
     "execution_count": 4,
     "metadata": {},
     "output_type": "execute_result"
    }
   ],
   "source": [
    "mydict = {'x': x, 'y': y}\n",
    "mx.savez('mydict.npz', **mydict)\n",
    "mydict2 = mx.load('mydict.npz')\n",
    "mydict2"
   ]
  },
  {
   "cell_type": "markdown",
   "id": "415b181f",
   "metadata": {
    "origin_pos": 24
   },
   "source": [
    "## [**加载和保存模型参数**]\n",
    "\n",
    "保存单个权重向量（或其他张量）确实有用，\n",
    "但是如果我们想保存整个模型，并在以后加载它们，\n",
    "单独保存每个向量则会变得很麻烦。\n",
    "毕竟，我们可能有数百个参数散布在各处。\n",
    "因此，深度学习框架提供了内置函数来保存和加载整个网络。\n",
    "需要注意的一个重要细节是，这将保存模型的参数而不是保存整个模型。\n",
    "例如，如果我们有一个3层多层感知机，我们需要单独指定架构。\n",
    "因为模型本身可以包含任意代码，所以模型本身难以序列化。\n",
    "因此，为了恢复模型，我们需要用代码生成架构，\n",
    "然后从磁盘加载参数。\n",
    "让我们从熟悉的多层感知机开始尝试一下。\n"
   ]
  },
  {
   "cell_type": "code",
   "execution_count": 5,
   "id": "28c7ea97",
   "metadata": {
    "execution": {
     "iopub.execute_input": "2024-07-24T07:43:00.152745Z",
     "iopub.status.busy": "2024-07-24T07:43:00.152647Z",
     "iopub.status.idle": "2024-07-24T07:43:00.155088Z",
     "shell.execute_reply": "2024-07-24T07:43:00.154852Z"
    },
    "origin_pos": 29,
    "tab": [
     "mlx"
    ]
   },
   "outputs": [],
   "source": [
    "class MLP(nn.Module):\n",
    "    def __init__(self):\n",
    "        super().__init__()\n",
    "        self.hidden = nn.Linear(20, 256)\n",
    "        self.output = nn.Linear(256, 10)\n",
    "        # self.layers = [self.hidden, self.output]\n",
    "\n",
    "    def __call__(self, x):\n",
    "        return self.output(nn.relu(self.hidden(x)))\n",
    "\n",
    "net = MLP()\n",
    "X = mx.random.normal(shape=(2, 20))\n",
    "Y = net(X)"
   ]
  },
  {
   "cell_type": "markdown",
   "id": "f58c76cf",
   "metadata": {
    "origin_pos": 30
   },
   "source": [
    "接下来，我们[**将模型的参数存储在一个叫做“mlp.params”的文件中。**]\n"
   ]
  },
  {
   "cell_type": "code",
   "execution_count": 6,
   "id": "d28c45ed",
   "metadata": {
    "execution": {
     "iopub.execute_input": "2024-07-24T07:43:00.156387Z",
     "iopub.status.busy": "2024-07-24T07:43:00.156286Z",
     "iopub.status.idle": "2024-07-24T07:43:00.161350Z",
     "shell.execute_reply": "2024-07-24T07:43:00.161107Z"
    },
    "origin_pos": 35,
    "tab": [
     "mlx"
    ]
   },
   "outputs": [],
   "source": [
    "flat_params = tree_flatten(net.parameters())\n",
    "mx.savez(\"mlp-params.npz\", **dict(flat_params))"
   ]
  },
  {
   "cell_type": "markdown",
   "id": "225c02c7",
   "metadata": {
    "origin_pos": 36
   },
   "source": [
    "为了恢复模型，我们[**实例化了原始多层感知机模型的一个备份。**]\n",
    "这里我们不需要随机初始化模型参数，而是(**直接读取文件中存储的参数。**)\n"
   ]
  },
  {
   "cell_type": "code",
   "execution_count": 7,
   "id": "4a73dc88",
   "metadata": {
    "execution": {
     "iopub.execute_input": "2024-07-24T07:43:00.162801Z",
     "iopub.status.busy": "2024-07-24T07:43:00.162703Z",
     "iopub.status.idle": "2024-07-24T07:43:00.165290Z",
     "shell.execute_reply": "2024-07-24T07:43:00.165074Z"
    },
    "origin_pos": 41,
    "tab": [
     "mlx"
    ]
   },
   "outputs": [
    {
     "data": {
      "text/plain": [
       "MLP(\n",
       "  (hidden): Linear(input_dims=20, output_dims=256, bias=True)\n",
       "  (output): Linear(input_dims=256, output_dims=10, bias=True)\n",
       ")"
      ]
     },
     "execution_count": 7,
     "metadata": {},
     "output_type": "execute_result"
    }
   ],
   "source": [
    "clone = MLP()\n",
    "clone.load_weights('mlp-params.npz')\n",
    "clone.eval()"
   ]
  },
  {
   "cell_type": "markdown",
   "id": "68e58180",
   "metadata": {
    "origin_pos": 42
   },
   "source": [
    "由于两个实例具有相同的模型参数，在输入相同的`X`时，\n",
    "两个实例的计算结果应该相同。\n",
    "让我们来验证一下。\n"
   ]
  },
  {
   "cell_type": "code",
   "execution_count": 8,
   "id": "175f4938",
   "metadata": {
    "execution": {
     "iopub.execute_input": "2024-07-24T07:43:00.166578Z",
     "iopub.status.busy": "2024-07-24T07:43:00.166488Z",
     "iopub.status.idle": "2024-07-24T07:43:00.189366Z",
     "shell.execute_reply": "2024-07-24T07:43:00.189113Z"
    },
    "origin_pos": 46,
    "tab": [
     "mlx"
    ]
   },
   "outputs": [
    {
     "data": {
      "text/plain": [
       "array([[True, True, True, ..., True, True, True],\n",
       "       [True, True, True, ..., True, True, True]], dtype=bool)"
      ]
     },
     "execution_count": 8,
     "metadata": {},
     "output_type": "execute_result"
    }
   ],
   "source": [
    "Y_clone = clone(X)\n",
    "Y_clone == Y"
   ]
  },
  {
   "cell_type": "markdown",
   "id": "fb9225c0",
   "metadata": {
    "origin_pos": 47
   },
   "source": [
    "## 小结\n",
    "\n",
    "* `save`和`load`函数可用于张量对象的文件读写。\n",
    "* 我们可以通过参数字典保存和加载网络的全部参数。\n",
    "* 保存架构必须在代码中完成，而不是在参数中完成。\n",
    "\n",
    "## 练习\n",
    "\n",
    "1. 即使不需要将经过训练的模型部署到不同的设备上，存储模型参数还有什么实际的好处？\n",
    "1. 假设我们只想复用网络的一部分，以将其合并到不同的网络架构中。比如想在一个新的网络中使用之前网络的前两层，该怎么做？\n",
    "1. 如何同时保存网络架构和参数？需要对架构加上什么限制？\n"
   ]
  }
 ],
 "metadata": {
  "language_info": {
   "name": "python"
  },
  "required_libs": []
 },
 "nbformat": 4,
 "nbformat_minor": 5
}