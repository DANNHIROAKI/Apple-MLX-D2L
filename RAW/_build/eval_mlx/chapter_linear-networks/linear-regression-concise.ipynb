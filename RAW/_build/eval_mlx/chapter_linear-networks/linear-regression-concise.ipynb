{
 "cells": [
  {
   "cell_type": "markdown",
   "id": "88b2de7e",
   "metadata": {
    "origin_pos": 0
   },
   "source": [
    "# 线性回归的简洁实现\n",
    ":label:`sec_linear_concise`\n",
    "\n",
    "在过去的几年里，出于对深度学习强烈的兴趣，\n",
    "许多公司、学者和业余爱好者开发了各种成熟的开源框架。\n",
    "这些框架可以自动化基于梯度的学习算法中重复性的工作。\n",
    "在 :numref:`sec_linear_scratch`中，我们只运用了：\n",
    "（1）通过张量来进行数据存储和线性代数；\n",
    "（2）通过自动微分来计算梯度。\n",
    "实际上，由于数据迭代器、损失函数、优化器和神经网络层很常用，\n",
    "现代深度学习库也为我们实现了这些组件。\n",
    "\n",
    "本节将介绍如何(**通过使用深度学习框架来简洁地实现**)\n",
    " :numref:`sec_linear_scratch`中的(**线性回归模型**)。\n",
    "\n",
    "## 生成数据集\n",
    "\n",
    "与 :numref:`sec_linear_scratch`中类似，我们首先[**生成数据集**]。\n"
   ]
  },
  {
   "cell_type": "code",
   "execution_count": 1,
   "id": "a7dc1eca",
   "metadata": {
    "execution": {
     "iopub.execute_input": "2024-07-24T07:42:48.900378Z",
     "iopub.status.busy": "2024-07-24T07:42:48.899895Z",
     "iopub.status.idle": "2024-07-24T07:42:50.515043Z",
     "shell.execute_reply": "2024-07-24T07:42:50.514730Z"
    },
    "origin_pos": 5,
    "tab": [
     "mlx"
    ]
   },
   "outputs": [],
   "source": [
    "import mlx.core as mx\n",
    "import mlx.nn as nn\n",
    "import mlx.optimizers as optim\n",
    "import numpy as np\n",
    "from d2l import mlx as d2l"
   ]
  },
  {
   "cell_type": "code",
   "execution_count": 2,
   "id": "fcca5ddc",
   "metadata": {
    "execution": {
     "iopub.execute_input": "2024-07-24T07:42:50.516932Z",
     "iopub.status.busy": "2024-07-24T07:42:50.516786Z",
     "iopub.status.idle": "2024-07-24T07:42:50.519350Z",
     "shell.execute_reply": "2024-07-24T07:42:50.519098Z"
    },
    "origin_pos": 6,
    "tab": [
     "mlx"
    ]
   },
   "outputs": [],
   "source": [
    "true_w = mx.array([2, -3.4])\n",
    "true_b = 4.2\n",
    "features, labels = d2l.synthetic_data(true_w, true_b, 1000)"
   ]
  },
  {
   "cell_type": "markdown",
   "id": "13e15589",
   "metadata": {
    "origin_pos": 7
   },
   "source": [
    "## 读取数据集\n",
    "\n",
    "我们可以[**调用框架中现有的API来读取数据**]。\n",
    "我们将`features`和`labels`作为API的参数传递，并通过数据迭代器指定`batch_size`。\n",
    "此外，布尔值`is_train`表示是否希望数据迭代器对象在每个迭代周期内打乱数据。\n"
   ]
  },
  {
   "cell_type": "code",
   "execution_count": 3,
   "id": "ea4ebfda",
   "metadata": {
    "execution": {
     "iopub.execute_input": "2024-07-24T07:42:50.520793Z",
     "iopub.status.busy": "2024-07-24T07:42:50.520679Z",
     "iopub.status.idle": "2024-07-24T07:42:50.522755Z",
     "shell.execute_reply": "2024-07-24T07:42:50.522523Z"
    },
    "origin_pos": 12,
    "tab": [
     "mlx"
    ]
   },
   "outputs": [],
   "source": [
    "def load_array(data_arrays, batch_size, is_train=True):  #@save\n",
    "    \"\"\"构造一个mlx数据迭代器\"\"\"\n",
    "    X = data_arrays[0]\n",
    "    y = data_arrays[1]\n",
    "    perm = mx.array(np.random.permutation(data_arrays[1].size))\n",
    "    for s in range(0, y.size, batch_size):\n",
    "        ids = perm[s:s + batch_size]\n",
    "        yield X[ids], y[ids]"
   ]
  },
  {
   "cell_type": "code",
   "execution_count": 4,
   "id": "a3e0479e",
   "metadata": {
    "execution": {
     "iopub.execute_input": "2024-07-24T07:42:50.524043Z",
     "iopub.status.busy": "2024-07-24T07:42:50.523942Z",
     "iopub.status.idle": "2024-07-24T07:42:50.525514Z",
     "shell.execute_reply": "2024-07-24T07:42:50.525277Z"
    },
    "origin_pos": 13,
    "tab": [
     "mlx"
    ]
   },
   "outputs": [],
   "source": [
    "batch_size = 10\n",
    "data_iter = load_array((features, labels), batch_size)"
   ]
  },
  {
   "cell_type": "markdown",
   "id": "e95182cf",
   "metadata": {
    "origin_pos": 14
   },
   "source": [
    "使用`data_iter`的方式与我们在 :numref:`sec_linear_scratch`中使用`data_iter`函数的方式相同。为了验证是否正常工作，让我们读取并打印第一个小批量样本。\n",
    "与 :numref:`sec_linear_scratch`不同，这里我们使用`iter`构造Python迭代器，并使用`next`从迭代器中获取第一项。\n"
   ]
  },
  {
   "cell_type": "code",
   "execution_count": 5,
   "id": "6fcc56d7",
   "metadata": {
    "execution": {
     "iopub.execute_input": "2024-07-24T07:42:50.526853Z",
     "iopub.status.busy": "2024-07-24T07:42:50.526775Z",
     "iopub.status.idle": "2024-07-24T07:42:50.544952Z",
     "shell.execute_reply": "2024-07-24T07:42:50.544647Z"
    },
    "origin_pos": 15,
    "tab": [
     "mlx"
    ]
   },
   "outputs": [
    {
     "data": {
      "text/plain": [
       "(array([[0.804883, 1.05096],\n",
       "        [1.85252, 0.887032],\n",
       "        [-0.0169863, 1.30887],\n",
       "        ...,\n",
       "        [-0.127192, 2.23166],\n",
       "        [-1.76157, -1.0245],\n",
       "        [-1.39641, -0.0919475]], dtype=float32),\n",
       " array([[2.23277],\n",
       "        [4.86631],\n",
       "        [-0.285178],\n",
       "        ...,\n",
       "        [-3.63524],\n",
       "        [4.15413],\n",
       "        [1.72358]], dtype=float32))"
      ]
     },
     "execution_count": 5,
     "metadata": {},
     "output_type": "execute_result"
    }
   ],
   "source": [
    "next(iter(data_iter))"
   ]
  },
  {
   "cell_type": "markdown",
   "id": "5deaf504",
   "metadata": {
    "origin_pos": 16
   },
   "source": [
    "## 定义模型\n",
    "\n",
    "当我们在 :numref:`sec_linear_scratch`中实现线性回归时，\n",
    "我们明确定义了模型参数变量，并编写了计算的代码，这样通过基本的线性代数运算得到输出。\n",
    "但是，如果模型变得更加复杂，且当我们几乎每天都需要实现模型时，自然会想简化这个过程。\n",
    "这种情况类似于为自己的博客从零开始编写网页。\n",
    "做一两次是有益的，但如果每个新博客就需要工程师花一个月的时间重新开始编写网页，那并不高效。\n",
    "\n",
    "对于标准深度学习模型，我们可以[**使用框架的预定义好的层**]。这使我们只需关注使用哪些层来构造模型，而不必关注层的实现细节。\n",
    "我们首先定义一个模型变量`net`，它是一个`Sequential`类的实例。\n",
    "`Sequential`类将多个层串联在一起。\n",
    "当给定输入数据时，`Sequential`实例将数据传入到第一层，\n",
    "然后将第一层的输出作为第二层的输入，以此类推。\n",
    "在下面的例子中，我们的模型只包含一个层，因此实际上不需要`Sequential`。\n",
    "但是由于以后几乎所有的模型都是多层的，在这里使用`Sequential`会让你熟悉“标准的流水线”。\n",
    "\n",
    "回顾 :numref:`fig_single_neuron`中的单层网络架构，\n",
    "这一单层被称为*全连接层*（fully-connected layer），\n",
    "因为它的每一个输入都通过矩阵-向量乘法得到它的每个输出。\n"
   ]
  },
  {
   "cell_type": "code",
   "execution_count": 6,
   "id": "b3b0ca8d",
   "metadata": {
    "execution": {
     "iopub.execute_input": "2024-07-24T07:42:50.563254Z",
     "iopub.status.busy": "2024-07-24T07:42:50.563119Z",
     "iopub.status.idle": "2024-07-24T07:42:50.566453Z",
     "shell.execute_reply": "2024-07-24T07:42:50.566196Z"
    },
    "origin_pos": 25,
    "tab": [
     "mlx"
    ]
   },
   "outputs": [],
   "source": [
    "# nn是神经网络的缩写\n",
    "class Linear_Regression(nn.Module):\n",
    "    def __init__(self):\n",
    "        super().__init__()\n",
    "        self.layers = [nn.Linear(2, 1, bias=True)]\n",
    "\n",
    "    def __call__(self, x):\n",
    "        for i, l in enumerate(self.layers):\n",
    "            x = mx.maximum(x, 0) if i > 0 else x\n",
    "            x = l(x)\n",
    "        return x\n",
    "\n",
    "net = Linear_Regression()\n",
    "mx.eval(net.parameters()) # evaluate all parameters to initialize the model"
   ]
  },
  {
   "cell_type": "markdown",
   "id": "36f28578",
   "metadata": {
    "origin_pos": 26
   },
   "source": [
    "## (**初始化模型参数**)\n",
    "\n",
    "在使用`net`之前，我们需要初始化模型参数。\n",
    "如在线性回归模型中的权重和偏置。\n",
    "深度学习框架通常有预定义的方法来初始化参数。\n",
    "在这里，我们指定每个权重参数应该从均值为0、标准差为0.01的正态分布中随机采样，\n",
    "偏置参数将初始化为零。\n"
   ]
  },
  {
   "cell_type": "code",
   "execution_count": 7,
   "id": "a8d04082",
   "metadata": {
    "execution": {
     "iopub.execute_input": "2024-07-24T07:42:50.567861Z",
     "iopub.status.busy": "2024-07-24T07:42:50.567763Z",
     "iopub.status.idle": "2024-07-24T07:42:50.569792Z",
     "shell.execute_reply": "2024-07-24T07:42:50.569536Z"
    },
    "origin_pos": 35,
    "tab": [
     "mlx"
    ]
   },
   "outputs": [],
   "source": [
    "params = net.parameters()\n",
    "weight_fn = nn.init.normal(mean=0.0, std=0.01)\n",
    "bias_fn = nn.init.constant(0.0)\n",
    "net.layers[0].weight = weight_fn(params[\"layers\"][0][\"weight\"])\n",
    "net.layers[0].bias = bias_fn(params[\"layers\"][0][\"bias\"])"
   ]
  },
  {
   "cell_type": "markdown",
   "id": "f673b426",
   "metadata": {
    "origin_pos": 39
   },
   "source": [
    "## 定义损失函数\n"
   ]
  },
  {
   "cell_type": "code",
   "execution_count": 8,
   "id": "b2c6f3b8",
   "metadata": {
    "execution": {
     "iopub.execute_input": "2024-07-24T07:42:50.571105Z",
     "iopub.status.busy": "2024-07-24T07:42:50.571022Z",
     "iopub.status.idle": "2024-07-24T07:42:50.572562Z",
     "shell.execute_reply": "2024-07-24T07:42:50.572336Z"
    },
    "origin_pos": 48,
    "tab": [
     "mlx"
    ]
   },
   "outputs": [],
   "source": [
    "mse_loss = nn.losses.mse_loss"
   ]
  },
  {
   "cell_type": "markdown",
   "id": "3a79c7c7",
   "metadata": {
    "origin_pos": 49
   },
   "source": [
    "## 定义优化算法\n"
   ]
  },
  {
   "cell_type": "code",
   "execution_count": 9,
   "id": "255c2fc2",
   "metadata": {
    "execution": {
     "iopub.execute_input": "2024-07-24T07:42:50.573919Z",
     "iopub.status.busy": "2024-07-24T07:42:50.573820Z",
     "iopub.status.idle": "2024-07-24T07:42:50.575389Z",
     "shell.execute_reply": "2024-07-24T07:42:50.575169Z"
    },
    "origin_pos": 58,
    "tab": [
     "mlx"
    ]
   },
   "outputs": [],
   "source": [
    "optimizer = optim.SGD(learning_rate=0.03)"
   ]
  },
  {
   "cell_type": "markdown",
   "id": "a6de4e59",
   "metadata": {
    "origin_pos": 59
   },
   "source": [
    "## 训练\n",
    "\n",
    "通过深度学习框架的高级API来实现我们的模型只需要相对较少的代码。\n",
    "我们不必单独分配参数、不必定义我们的损失函数，也不必手动实现小批量随机梯度下降。\n",
    "当我们需要更复杂的模型时，高级API的优势将大大增加。\n",
    "当我们有了所有的基本组件，[**训练过程代码与我们从零开始实现时所做的非常相似**]。\n",
    "\n",
    "回顾一下：在每个迭代周期里，我们将完整遍历一次数据集（`train_data`），\n",
    "不停地从中获取一个小批量的输入和相应的标签。\n",
    "对于每一个小批量，我们会进行以下步骤:\n",
    "\n",
    "* 通过调用`net(X)`生成预测并计算损失`l`（前向传播）。\n",
    "* 通过进行反向传播来计算梯度。\n",
    "* 通过调用优化器来更新模型参数。\n",
    "\n",
    "为了更好的衡量训练效果，我们计算每个迭代周期后的损失，并打印它来监控训练过程。\n"
   ]
  },
  {
   "cell_type": "code",
   "execution_count": 10,
   "id": "8ac2c609",
   "metadata": {
    "execution": {
     "iopub.execute_input": "2024-07-24T07:42:50.576769Z",
     "iopub.status.busy": "2024-07-24T07:42:50.576688Z",
     "iopub.status.idle": "2024-07-24T07:42:50.673935Z",
     "shell.execute_reply": "2024-07-24T07:42:50.673662Z"
    },
    "origin_pos": 64,
    "tab": [
     "mlx"
    ]
   },
   "outputs": [
    {
     "name": "stdout",
     "output_type": "stream",
     "text": [
      "epoch 1, loss 0.00016\n",
      "epoch 2, loss 0.00010\n",
      "epoch 3, loss 0.00010\n"
     ]
    }
   ],
   "source": [
    "num_epochs = 3\n",
    "def loss_fn(model, X, y):\n",
    "    y_hat = model(X)\n",
    "    return mse_loss(y_hat, y)\n",
    "\n",
    "for epoch in range(num_epochs):\n",
    "    # Generators in Python are one-time iterable. Once a generator has been exhausted, it cannot be restarted or reused.\n",
    "    for X, y in load_array((features, labels), batch_size):\n",
    "        loss_and_grad_fn = nn.value_and_grad(net, loss_fn)\n",
    "        loss, grads = loss_and_grad_fn(net, X, y)\n",
    "        optimizer.update(net, grads)\n",
    "        mx.eval(net.state)\n",
    "\n",
    "    loss = loss_fn(net, features, labels)\n",
    "    print(f'epoch {epoch + 1}, loss {loss.item():.5f}')"
   ]
  },
  {
   "cell_type": "markdown",
   "id": "996cec09",
   "metadata": {
    "origin_pos": 65
   },
   "source": [
    "下面我们[**比较生成数据集的真实参数和通过有限数据训练获得的模型参数**]。\n",
    "要访问参数，我们首先从`net`访问所需的层，然后读取该层的权重和偏置。\n",
    "正如在从零开始实现中一样，我们估计得到的参数与生成数据的真实参数非常接近。\n"
   ]
  },
  {
   "cell_type": "code",
   "execution_count": 11,
   "id": "d0d25f2b",
   "metadata": {
    "execution": {
     "iopub.execute_input": "2024-07-24T07:42:50.675408Z",
     "iopub.status.busy": "2024-07-24T07:42:50.675326Z",
     "iopub.status.idle": "2024-07-24T07:42:50.677845Z",
     "shell.execute_reply": "2024-07-24T07:42:50.677577Z"
    },
    "origin_pos": 70,
    "tab": [
     "mlx"
    ]
   },
   "outputs": [
    {
     "name": "stdout",
     "output_type": "stream",
     "text": [
      "w的估计误差： array([-0.000315666, 0.000326872], dtype=float32)\n",
      "b的估计误差： array([0.000761986], dtype=float32)\n"
     ]
    }
   ],
   "source": [
    "w = net.layers[0].weight\n",
    "print('w的估计误差：', true_w - w.reshape(true_w.shape))\n",
    "b = net.layers[0].bias\n",
    "print('b的估计误差：', true_b - b)"
   ]
  },
  {
   "cell_type": "markdown",
   "id": "f5f7bed0",
   "metadata": {
    "origin_pos": 71
   },
   "source": [
    "## 小结\n"
   ]
  },
  {
   "cell_type": "markdown",
   "id": "fd4a7d3a",
   "metadata": {
    "origin_pos": 75
   },
   "source": [
    "## 练习\n",
    "\n",
    "1. 如果将小批量的总损失替换为小批量损失的平均值，需要如何更改学习率？\n",
    "1. 查看深度学习框架文档，它们提供了哪些损失函数和初始化方法？用Huber损失代替原损失，即\n",
    "    $$l(y,y') = \\begin{cases}|y-y'| -\\frac{\\sigma}{2} & \\text{ if } |y-y'| > \\sigma \\\\ \\frac{1}{2 \\sigma} (y-y')^2 & \\text{ 其它情况}\\end{cases}$$\n",
    "1. 如何访问线性回归的梯度？\n"
   ]
  }
 ],
 "metadata": {
  "language_info": {
   "name": "python"
  },
  "required_libs": []
 },
 "nbformat": 4,
 "nbformat_minor": 5
}