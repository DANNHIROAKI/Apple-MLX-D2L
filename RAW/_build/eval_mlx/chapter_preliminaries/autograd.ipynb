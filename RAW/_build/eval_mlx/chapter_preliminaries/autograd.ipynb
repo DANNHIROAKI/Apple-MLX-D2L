{
 "cells": [
  {
   "cell_type": "markdown",
   "id": "95f1db17",
   "metadata": {
    "origin_pos": 0
   },
   "source": [
    "# 自动微分\n",
    ":label:`sec_autograd`\n",
    "\n",
    "正如 :numref:`sec_calculus`中所说，求导是几乎所有深度学习优化算法的关键步骤。\n",
    "虽然求导的计算很简单，只需要一些基本的微积分。\n",
    "但对于复杂的模型，手工进行更新是一件很痛苦的事情（而且经常容易出错）。\n",
    "\n",
    "深度学习框架通过自动计算导数，即*自动微分*（automatic differentiation）来加快求导。\n",
    "实际中，根据设计好的模型，系统会构建一个*计算图*（computational graph），\n",
    "来跟踪计算是哪些数据通过哪些操作组合起来产生输出。\n",
    "自动微分使系统能够随后反向传播梯度。\n",
    "这里，*反向传播*（backpropagate）意味着跟踪整个计算图，填充关于每个参数的偏导数。\n",
    "\n",
    "## 一个简单的例子\n",
    "\n",
    "作为一个演示例子，(**假设我们想对函数$y=2\\mathbf{x}^{\\top}\\mathbf{x}$关于列向量$\\mathbf{x}$求导**)。\n",
    "首先，我们创建变量`x`并为其分配一个初始值。\n"
   ]
  },
  {
   "cell_type": "code",
   "execution_count": 1,
   "id": "49b6b5fe",
   "metadata": {
    "execution": {
     "iopub.execute_input": "2024-07-24T07:42:56.950195Z",
     "iopub.status.busy": "2024-07-24T07:42:56.949851Z",
     "iopub.status.idle": "2024-07-24T07:42:57.053368Z",
     "shell.execute_reply": "2024-07-24T07:42:57.053074Z"
    },
    "origin_pos": 5,
    "tab": [
     "mlx"
    ]
   },
   "outputs": [
    {
     "data": {
      "text/plain": [
       "array([0, 1, 2, 3], dtype=float32)"
      ]
     },
     "execution_count": 1,
     "metadata": {},
     "output_type": "execute_result"
    }
   ],
   "source": [
    "import mlx.core as mx\n",
    "\n",
    "x = mx.arange(4.0)\n",
    "x"
   ]
  },
  {
   "cell_type": "markdown",
   "id": "c68d338c",
   "metadata": {
    "origin_pos": 6
   },
   "source": [
    "[**在我们计算$y$关于$\\mathbf{x}$的梯度之前，需要一个地方来存储梯度。**]\n",
    "重要的是，我们不会在每次对一个参数求导时都分配新的内存。\n",
    "因为我们经常会成千上万次地更新相同的参数，每次都分配新的内存可能很快就会将内存耗尽。\n",
    "注意，一个标量函数关于向量$\\mathbf{x}$的梯度是向量，并且与$\\mathbf{x}$具有相同的形状。\n"
   ]
  },
  {
   "cell_type": "markdown",
   "id": "1be6bc53",
   "metadata": {
    "origin_pos": 11
   },
   "source": [
    "(**现在计算$y$。**)\n"
   ]
  },
  {
   "cell_type": "code",
   "execution_count": 2,
   "id": "a71a787c",
   "metadata": {
    "execution": {
     "iopub.execute_input": "2024-07-24T07:42:57.071679Z",
     "iopub.status.busy": "2024-07-24T07:42:57.071503Z",
     "iopub.status.idle": "2024-07-24T07:42:57.073409Z",
     "shell.execute_reply": "2024-07-24T07:42:57.073137Z"
    },
    "origin_pos": 16,
    "tab": [
     "mlx"
    ]
   },
   "outputs": [],
   "source": [
    "# 在 MLX 中，启用梯度计算的方法并不完全等同于 PyTorch\n",
    "# 我们需要定义一个函数来计算梯度\n",
    "y = lambda x: 2 * mx.tensordot(x, x, axes=1)"
   ]
  },
  {
   "cell_type": "markdown",
   "id": "65765f5c",
   "metadata": {
    "origin_pos": 17
   },
   "source": [
    "`x`是一个长度为4的向量，计算`x`和`x`的点积，得到了我们赋值给`y`的标量输出。\n",
    "接下来，[**通过调用反向传播函数来自动计算`y`关于`x`每个分量的梯度**]，并打印这些梯度。\n"
   ]
  },
  {
   "cell_type": "code",
   "execution_count": 3,
   "id": "84bc97fe",
   "metadata": {
    "execution": {
     "iopub.execute_input": "2024-07-24T07:42:57.074838Z",
     "iopub.status.busy": "2024-07-24T07:42:57.074736Z",
     "iopub.status.idle": "2024-07-24T07:42:57.077929Z",
     "shell.execute_reply": "2024-07-24T07:42:57.077645Z"
    },
    "origin_pos": 22,
    "tab": [
     "mlx"
    ]
   },
   "outputs": [
    {
     "data": {
      "text/plain": [
       "(array([0, 1, 2, 3], dtype=float32), array([0, 4, 8, 12], dtype=float32))"
      ]
     },
     "execution_count": 3,
     "metadata": {},
     "output_type": "execute_result"
    }
   ],
   "source": [
    "# 计算梯度\n",
    "grad_fn = mx.grad(y)\n",
    "x_grad = grad_fn(x)\n",
    "\n",
    "x, x_grad  # x 的梯度"
   ]
  },
  {
   "cell_type": "markdown",
   "id": "432b4548",
   "metadata": {
    "origin_pos": 23
   },
   "source": [
    "函数$y=2\\mathbf{x}^{\\top}\\mathbf{x}$关于$\\mathbf{x}$的梯度应为$4\\mathbf{x}$。\n",
    "让我们快速验证这个梯度是否计算正确。\n"
   ]
  },
  {
   "cell_type": "code",
   "execution_count": 4,
   "id": "8c171ccf",
   "metadata": {
    "execution": {
     "iopub.execute_input": "2024-07-24T07:42:57.079303Z",
     "iopub.status.busy": "2024-07-24T07:42:57.079199Z",
     "iopub.status.idle": "2024-07-24T07:42:57.107618Z",
     "shell.execute_reply": "2024-07-24T07:42:57.107362Z"
    },
    "origin_pos": 28,
    "tab": [
     "mlx"
    ]
   },
   "outputs": [
    {
     "data": {
      "text/plain": [
       "array([True, True, True, True], dtype=bool)"
      ]
     },
     "execution_count": 4,
     "metadata": {},
     "output_type": "execute_result"
    }
   ],
   "source": [
    "x_grad == 4 * x"
   ]
  },
  {
   "cell_type": "markdown",
   "id": "8555bc79",
   "metadata": {
    "origin_pos": 29
   },
   "source": [
    "[**现在计算`x`的另一个函数。**]\n"
   ]
  },
  {
   "cell_type": "code",
   "execution_count": 5,
   "id": "d2bdcdca",
   "metadata": {
    "execution": {
     "iopub.execute_input": "2024-07-24T07:42:57.109094Z",
     "iopub.status.busy": "2024-07-24T07:42:57.108995Z",
     "iopub.status.idle": "2024-07-24T07:42:57.111528Z",
     "shell.execute_reply": "2024-07-24T07:42:57.111297Z"
    },
    "origin_pos": 34,
    "tab": [
     "mlx"
    ]
   },
   "outputs": [
    {
     "data": {
      "text/plain": [
       "array([1, 1, 1, 1], dtype=float32)"
      ]
     },
     "execution_count": 5,
     "metadata": {},
     "output_type": "execute_result"
    }
   ],
   "source": [
    "# 创建数组\n",
    "x = mx.arange(4.0)\n",
    "\n",
    "# 定义计算函数\n",
    "y = lambda x: x.sum()\n",
    "\n",
    "# 计算梯度\n",
    "grad_fn = mx.grad(y)\n",
    "\n",
    "# 在计算梯度前清除之前的值（MLX 中没有直接的清除方法，重新计算即可）\n",
    "x_grad = grad_fn(x)\n",
    "\n",
    "# 打印梯度\n",
    "x_grad"
   ]
  },
  {
   "cell_type": "markdown",
   "id": "e33fb0cb",
   "metadata": {
    "origin_pos": 35
   },
   "source": [
    "## 非标量变量的反向传播\n",
    "\n",
    "当`y`不是标量时，向量`y`关于向量`x`的导数的最自然解释是一个矩阵。\n",
    "对于高阶和高维的`y`和`x`，求导的结果可以是一个高阶张量。\n",
    "\n",
    "然而，虽然这些更奇特的对象确实出现在高级机器学习中（包括[**深度学习中**]），\n",
    "但当调用向量的反向计算时，我们通常会试图计算一批训练样本中每个组成部分的损失函数的导数。\n",
    "这里(**，我们的目的不是计算微分矩阵，而是单独计算批量中每个样本的偏导数之和。**)\n"
   ]
  },
  {
   "cell_type": "code",
   "execution_count": 6,
   "id": "ae1cd471",
   "metadata": {
    "execution": {
     "iopub.execute_input": "2024-07-24T07:42:57.112846Z",
     "iopub.status.busy": "2024-07-24T07:42:57.112749Z",
     "iopub.status.idle": "2024-07-24T07:42:57.115391Z",
     "shell.execute_reply": "2024-07-24T07:42:57.115155Z"
    },
    "origin_pos": 40,
    "tab": [
     "mlx"
    ]
   },
   "outputs": [
    {
     "data": {
      "text/plain": [
       "array([0, 2, 4, 6], dtype=float32)"
      ]
     },
     "execution_count": 6,
     "metadata": {},
     "output_type": "execute_result"
    }
   ],
   "source": [
    "# 创建数组\n",
    "x = mx.arange(4.0)\n",
    "\n",
    "# 定义计算函数\n",
    "y = lambda x: x * x\n",
    "# grad is only defined for scalar output functions\n",
    "grad_fn = mx.grad(lambda x: y(x).sum())\n",
    "\n",
    "# 在计算梯度前清除之前的值\n",
    "x_grad = grad_fn(x)\n",
    "\n",
    "# 打印梯度\n",
    "x_grad"
   ]
  },
  {
   "cell_type": "markdown",
   "id": "fec0bf43",
   "metadata": {
    "origin_pos": 41
   },
   "source": [
    "## 分离计算\n",
    "\n",
    "有时，我们希望[**将某些计算移动到记录的计算图之外**]。\n",
    "例如，假设`y`是作为`x`的函数计算的，而`z`则是作为`y`和`x`的函数计算的。\n",
    "想象一下，我们想计算`z`关于`x`的梯度，但由于某种原因，希望将`y`视为一个常数，\n",
    "并且只考虑到`x`在`y`被计算后发挥的作用。\n",
    "\n",
    "这里可以分离`y`来返回一个新变量`u`，该变量与`y`具有相同的值，\n",
    "但丢弃计算图中如何计算`y`的任何信息。\n",
    "换句话说，梯度不会向后流经`u`到`x`。\n",
    "因此，下面的反向传播函数计算`z=u*x`关于`x`的偏导数，同时将`u`作为常数处理，\n",
    "而不是`z=x*x*x`关于`x`的偏导数。\n"
   ]
  },
  {
   "cell_type": "code",
   "execution_count": 7,
   "id": "43ee78a5",
   "metadata": {
    "execution": {
     "iopub.execute_input": "2024-07-24T07:42:57.116659Z",
     "iopub.status.busy": "2024-07-24T07:42:57.116566Z",
     "iopub.status.idle": "2024-07-24T07:42:57.119748Z",
     "shell.execute_reply": "2024-07-24T07:42:57.119528Z"
    },
    "origin_pos": 46,
    "tab": [
     "mlx"
    ]
   },
   "outputs": [
    {
     "data": {
      "text/plain": [
       "(array([0, 1, 4, 9], dtype=float32),\n",
       " array([True, True, True, True], dtype=bool))"
      ]
     },
     "execution_count": 7,
     "metadata": {},
     "output_type": "execute_result"
    }
   ],
   "source": [
    "# 在 MLX 中，我们需要手动计算梯度并通过复制来模拟 `detach` 操作。\n",
    "# 首先，定义计算函数，然后使用 `grad` 方法计算梯度。\n",
    "x = mx.arange(4.0)\n",
    "y = lambda x: x * x\n",
    "u = mx.array(y(x))\n",
    "z = lambda x: mx.sum(u * x)\n",
    "\n",
    "grad_fn = mx.grad(z)\n",
    "x_grad = mx.grad(z)(x)\n",
    "\n",
    "# 打印梯度和比较结果\n",
    "x_grad, mx.grad(lambda x: z(x).sum())(x) == y(x)"
   ]
  },
  {
   "cell_type": "markdown",
   "id": "f1e8687b",
   "metadata": {
    "origin_pos": 47
   },
   "source": [
    "由于记录了`y`的计算结果，我们可以随后在`y`上调用反向传播，\n",
    "得到`y=x*x`关于的`x`的导数，即`2*x`。\n"
   ]
  },
  {
   "cell_type": "code",
   "execution_count": 8,
   "id": "5c60d8c5",
   "metadata": {
    "execution": {
     "iopub.execute_input": "2024-07-24T07:42:57.121069Z",
     "iopub.status.busy": "2024-07-24T07:42:57.120997Z",
     "iopub.status.idle": "2024-07-24T07:42:57.123805Z",
     "shell.execute_reply": "2024-07-24T07:42:57.123580Z"
    },
    "origin_pos": 52,
    "tab": [
     "mlx"
    ]
   },
   "outputs": [
    {
     "data": {
      "text/plain": [
       "(array([0, 2, 4, 6], dtype=float32),\n",
       " array([True, True, True, True], dtype=bool))"
      ]
     },
     "execution_count": 8,
     "metadata": {},
     "output_type": "execute_result"
    }
   ],
   "source": [
    "grad_fn = mx.grad(y)\n",
    "y_grad = mx.grad(lambda x: y(x).sum())(x)\n",
    "y_grad, mx.grad(lambda x: y(x).sum())(x) == 2 * x"
   ]
  },
  {
   "cell_type": "markdown",
   "id": "e86fbd97",
   "metadata": {
    "origin_pos": 53
   },
   "source": [
    "## Python控制流的梯度计算\n",
    "\n",
    "使用自动微分的一个好处是：\n",
    "[**即使构建函数的计算图需要通过Python控制流（例如，条件、循环或任意函数调用），我们仍然可以计算得到的变量的梯度**]。\n",
    "在下面的代码中，`while`循环的迭代次数和`if`语句的结果都取决于输入`a`的值。\n"
   ]
  },
  {
   "cell_type": "code",
   "execution_count": 9,
   "id": "1e86e108",
   "metadata": {
    "execution": {
     "iopub.execute_input": "2024-07-24T07:42:57.125183Z",
     "iopub.status.busy": "2024-07-24T07:42:57.125099Z",
     "iopub.status.idle": "2024-07-24T07:42:57.126982Z",
     "shell.execute_reply": "2024-07-24T07:42:57.126754Z"
    },
    "origin_pos": 58,
    "tab": [
     "mlx"
    ]
   },
   "outputs": [],
   "source": [
    "def f(a):\n",
    "    b = a * 2\n",
    "    while mx.linalg.norm(b) < 1000:\n",
    "        b = b * 2\n",
    "    if mx.linalg.norm(b) > 0:\n",
    "        c = b\n",
    "    else:\n",
    "        c = 100 * b\n",
    "    return c"
   ]
  },
  {
   "cell_type": "markdown",
   "id": "40467eb3",
   "metadata": {
    "origin_pos": 59
   },
   "source": [
    "让我们计算梯度。\n"
   ]
  },
  {
   "cell_type": "code",
   "execution_count": 10,
   "id": "f7909a1a",
   "metadata": {
    "execution": {
     "iopub.execute_input": "2024-07-24T07:42:57.128246Z",
     "iopub.status.busy": "2024-07-24T07:42:57.128172Z",
     "iopub.status.idle": "2024-07-24T07:42:57.139700Z",
     "shell.execute_reply": "2024-07-24T07:42:57.139417Z"
    },
    "origin_pos": 64,
    "tab": [
     "mlx"
    ]
   },
   "outputs": [],
   "source": [
    "# 创建标量\n",
    "a = mx.random.normal(shape=())\n",
    "\n",
    "# 计算函数值\n",
    "d = f(a)\n",
    "\n",
    "# 计算梯度函数\n",
    "grad_fn = mx.grad(f)\n",
    "a_grad = grad_fn(a)"
   ]
  },
  {
   "cell_type": "markdown",
   "id": "fd4ae0d2",
   "metadata": {
    "origin_pos": 65
   },
   "source": [
    "我们现在可以分析上面定义的`f`函数。\n",
    "请注意，它在其输入`a`中是分段线性的。\n",
    "换言之，对于任何`a`，存在某个常量标量`k`，使得`f(a)=k*a`，其中`k`的值取决于输入`a`，因此可以用`d/a`验证梯度是否正确。\n"
   ]
  },
  {
   "cell_type": "code",
   "execution_count": 11,
   "id": "5973ac60",
   "metadata": {
    "execution": {
     "iopub.execute_input": "2024-07-24T07:42:57.141254Z",
     "iopub.status.busy": "2024-07-24T07:42:57.141151Z",
     "iopub.status.idle": "2024-07-24T07:42:57.145993Z",
     "shell.execute_reply": "2024-07-24T07:42:57.145753Z"
    },
    "origin_pos": 70,
    "tab": [
     "mlx"
    ]
   },
   "outputs": [
    {
     "data": {
      "text/plain": [
       "(array(4096, dtype=float32), array(True, dtype=bool))"
      ]
     },
     "execution_count": 11,
     "metadata": {},
     "output_type": "execute_result"
    }
   ],
   "source": [
    "# 比较梯度和 d / a\n",
    "comparison = mx.all(a_grad == d / a)\n",
    "\n",
    "a_grad, comparison"
   ]
  },
  {
   "cell_type": "markdown",
   "id": "d6f6ef75",
   "metadata": {
    "origin_pos": 71
   },
   "source": [
    "## 小结\n",
    "\n",
    "* 深度学习框架可以自动计算导数：我们首先将梯度附加到想要对其计算偏导数的变量上，然后记录目标值的计算，执行它的反向传播函数，并访问得到的梯度。\n",
    "\n",
    "## 练习\n",
    "\n",
    "1. 为什么计算二阶导数比一阶导数的开销要更大？\n",
    "1. 在运行反向传播函数之后，立即再次运行它，看看会发生什么。\n",
    "1. 在控制流的例子中，我们计算`d`关于`a`的导数，如果将变量`a`更改为随机向量或矩阵，会发生什么？\n",
    "1. 重新设计一个求控制流梯度的例子，运行并分析结果。\n",
    "1. 使$f(x)=\\sin(x)$，绘制$f(x)$和$\\frac{df(x)}{dx}$的图像，其中后者不使用$f'(x)=\\cos(x)$。\n"
   ]
  }
 ],
 "metadata": {
  "language_info": {
   "name": "python"
  },
  "required_libs": []
 },
 "nbformat": 4,
 "nbformat_minor": 5
}