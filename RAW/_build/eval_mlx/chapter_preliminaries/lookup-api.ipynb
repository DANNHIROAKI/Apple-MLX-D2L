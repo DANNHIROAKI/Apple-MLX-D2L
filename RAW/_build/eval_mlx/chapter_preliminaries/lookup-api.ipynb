{
 "cells": [
  {
   "cell_type": "markdown",
   "id": "1327ca9b",
   "metadata": {
    "origin_pos": 0
   },
   "source": [
    "# 查阅文档\n"
   ]
  },
  {
   "cell_type": "markdown",
   "id": "bbf7533e",
   "metadata": {
    "origin_pos": 4
   },
   "source": [
    "## 查找模块中的所有函数和类\n",
    "\n",
    "为了知道模块中可以调用哪些函数和类，可以调用`dir`函数。\n",
    "例如，我们可以(**查询随机数生成模块中的所有属性：**)\n"
   ]
  },
  {
   "cell_type": "code",
   "execution_count": 1,
   "id": "0d1b74ca",
   "metadata": {
    "execution": {
     "iopub.execute_input": "2024-07-24T07:41:52.406514Z",
     "iopub.status.busy": "2024-07-24T07:41:52.406116Z",
     "iopub.status.idle": "2024-07-24T07:41:52.534495Z",
     "shell.execute_reply": "2024-07-24T07:41:52.534233Z"
    },
    "origin_pos": 9,
    "tab": [
     "mlx"
    ]
   },
   "outputs": [
    {
     "name": "stdout",
     "output_type": "stream",
     "text": [
      "['__doc__', '__loader__', '__name__', '__package__', '__spec__', 'bernoulli', 'categorical', 'gumbel', 'key', 'multivariate_normal', 'normal', 'randint', 'seed', 'split', 'state', 'truncated_normal', 'uniform']\n"
     ]
    }
   ],
   "source": [
    "import mlx.core as mx\n",
    "\n",
    "print(dir(mx.random))"
   ]
  },
  {
   "cell_type": "markdown",
   "id": "52b9979b",
   "metadata": {
    "origin_pos": 10
   },
   "source": [
    "通常可以忽略以“`__`”（双下划线）开始和结束的函数，它们是Python中的特殊对象，\n",
    "或以单个“`_`”（单下划线）开始的函数，它们通常是内部函数。\n",
    "根据剩余的函数名或属性名，我们可能会猜测这个模块提供了各种生成随机数的方法，\n",
    "包括从均匀分布（`uniform`）、正态分布（`normal`）和多项分布（`multinomial`）中采样。\n",
    "\n",
    "## 查找特定函数和类的用法\n",
    "\n",
    "有关如何使用给定函数或类的更具体说明，可以调用`help`函数。\n",
    "例如，我们来[**查看张量`ones`函数的用法。**]\n"
   ]
  },
  {
   "cell_type": "code",
   "execution_count": 2,
   "id": "46b8d6bb",
   "metadata": {
    "execution": {
     "iopub.execute_input": "2024-07-24T07:41:52.551608Z",
     "iopub.status.busy": "2024-07-24T07:41:52.551481Z",
     "iopub.status.idle": "2024-07-24T07:41:52.553429Z",
     "shell.execute_reply": "2024-07-24T07:41:52.553186Z"
    },
    "origin_pos": 15,
    "tab": [
     "mlx"
    ]
   },
   "outputs": [
    {
     "name": "stdout",
     "output_type": "stream",
     "text": [
      "Help on nb_func in module mlx.core:\n",
      "\n",
      "ones = <nanobind.nb_func object>\n",
      "    ones(shape: Union[int, Sequence[int]], dtype: Optional[Dtype] = float32, *, stream: Union[None, Stream, Device] = None) -> array\n",
      "    \n",
      "    Construct an array of ones.\n",
      "    \n",
      "    Args:\n",
      "        shape (int or list(int)): The shape of the output array.\n",
      "        dtype (Dtype, optional): Data type of the output array. If\n",
      "          unspecified the output type defaults to ``float32``.\n",
      "    \n",
      "    Returns:\n",
      "        array: The array of ones with the specified shape.\n",
      "\n"
     ]
    }
   ],
   "source": [
    "help(mx.ones)"
   ]
  },
  {
   "cell_type": "markdown",
   "id": "8bd70d6c",
   "metadata": {
    "origin_pos": 16
   },
   "source": [
    "从文档中，我们可以看到`ones`函数创建一个具有指定形状的新张量，并将所有元素值设置为1。\n",
    "下面来[**运行一个快速测试**]来确认这一解释：\n"
   ]
  },
  {
   "cell_type": "code",
   "execution_count": 3,
   "id": "fac1b24a",
   "metadata": {
    "execution": {
     "iopub.execute_input": "2024-07-24T07:41:52.554835Z",
     "iopub.status.busy": "2024-07-24T07:41:52.554736Z",
     "iopub.status.idle": "2024-07-24T07:41:52.563101Z",
     "shell.execute_reply": "2024-07-24T07:41:52.562838Z"
    },
    "origin_pos": 21,
    "tab": [
     "mlx"
    ]
   },
   "outputs": [
    {
     "data": {
      "text/plain": [
       "array([1, 1, 1, 1], dtype=float32)"
      ]
     },
     "execution_count": 3,
     "metadata": {},
     "output_type": "execute_result"
    }
   ],
   "source": [
    "mx.ones(4)"
   ]
  },
  {
   "cell_type": "markdown",
   "id": "ae76cbdf",
   "metadata": {
    "origin_pos": 22
   },
   "source": [
    "在Jupyter记事本中，我们可以使用`?`指令在另一个浏览器窗口中显示文档。\n",
    "例如，`list?`指令将创建与`help(list)`指令几乎相同的内容，并在新的浏览器窗口中显示它。\n",
    "此外，如果我们使用两个问号，如`list??`，将显示实现该函数的Python代码。\n",
    "\n",
    "## 小结\n",
    "\n",
    "* 官方文档提供了本书之外的大量描述和示例。\n",
    "* 可以通过调用`dir`和`help`函数或在Jupyter记事本中使用`?`和`??`查看API的用法文档。\n",
    "\n",
    "## 练习\n",
    "\n",
    "1. 在深度学习框架中查找任何函数或类的文档。请尝试在这个框架的官方网站上找到文档。\n"
   ]
  }
 ],
 "metadata": {
  "language_info": {
   "name": "python"
  },
  "required_libs": []
 },
 "nbformat": 4,
 "nbformat_minor": 5
}